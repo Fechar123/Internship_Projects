{
 "cells": [
  {
   "cell_type": "markdown",
   "metadata": {},
   "source": [
    "# DoITT Fellows and Interns  "
   ]
  },
  {
   "cell_type": "code",
   "execution_count": 14,
   "metadata": {},
   "outputs": [
    {
     "name": "stderr",
     "output_type": "stream",
     "text": [
      "Warning message:\n",
      "\"Duplicated column names deduplicated: 'Email' => 'Email_1' [26]\"Parsed with column specification:\n",
      "cols(\n",
      "  .default = col_character(),\n",
      "  `Date range2` = col_double(),\n",
      "  `Student ID` = col_double(),\n",
      "  `RF ID` = col_double(),\n",
      "  `Employer New` = col_logical()\n",
      ")\n",
      "See spec(...) for full column specifications.\n"
     ]
    },
    {
     "data": {
      "text/html": [
       "<ol class=list-inline>\n",
       "\t<li>'Organization Name'</li>\n",
       "\t<li>'RFCUNY Account #'</li>\n",
       "\t<li>'First Name'</li>\n",
       "\t<li>'Last Name'</li>\n",
       "\t<li>'Date you began work'</li>\n",
       "\t<li>'Date work ends'</li>\n",
       "\t<li>'Date range2'</li>\n",
       "\t<li>'Date range'</li>\n",
       "\t<li>'Student ID'</li>\n",
       "\t<li>'RF ID'</li>\n",
       "\t<li>'Birth Date'</li>\n",
       "\t<li>'Email'</li>\n",
       "\t<li>'Phone'</li>\n",
       "\t<li>'Street Address'</li>\n",
       "\t<li>'City'</li>\n",
       "\t<li>'State'</li>\n",
       "\t<li>'Zip+4'</li>\n",
       "\t<li>'Status'</li>\n",
       "\t<li>'Type'</li>\n",
       "\t<li>'New Job Title'</li>\n",
       "\t<li>'Fringe Status'</li>\n",
       "\t<li>'College'</li>\n",
       "\t<li>'Graduation Date'</li>\n",
       "\t<li>'Employer New'</li>\n",
       "\t<li>'Contact'</li>\n",
       "\t<li>'Email_1'</li>\n",
       "\t<li>'Work Authorization'</li>\n",
       "\t<li>'Major'</li>\n",
       "</ol>\n"
      ],
      "text/latex": [
       "\\begin{enumerate*}\n",
       "\\item 'Organization Name'\n",
       "\\item 'RFCUNY Account \\#'\n",
       "\\item 'First Name'\n",
       "\\item 'Last Name'\n",
       "\\item 'Date you began work'\n",
       "\\item 'Date work ends'\n",
       "\\item 'Date range2'\n",
       "\\item 'Date range'\n",
       "\\item 'Student ID'\n",
       "\\item 'RF ID'\n",
       "\\item 'Birth Date'\n",
       "\\item 'Email'\n",
       "\\item 'Phone'\n",
       "\\item 'Street Address'\n",
       "\\item 'City'\n",
       "\\item 'State'\n",
       "\\item 'Zip+4'\n",
       "\\item 'Status'\n",
       "\\item 'Type'\n",
       "\\item 'New Job Title'\n",
       "\\item 'Fringe Status'\n",
       "\\item 'College'\n",
       "\\item 'Graduation Date'\n",
       "\\item 'Employer New'\n",
       "\\item 'Contact'\n",
       "\\item 'Email\\_1'\n",
       "\\item 'Work Authorization'\n",
       "\\item 'Major'\n",
       "\\end{enumerate*}\n"
      ],
      "text/markdown": [
       "1. 'Organization Name'\n",
       "2. 'RFCUNY Account #'\n",
       "3. 'First Name'\n",
       "4. 'Last Name'\n",
       "5. 'Date you began work'\n",
       "6. 'Date work ends'\n",
       "7. 'Date range2'\n",
       "8. 'Date range'\n",
       "9. 'Student ID'\n",
       "10. 'RF ID'\n",
       "11. 'Birth Date'\n",
       "12. 'Email'\n",
       "13. 'Phone'\n",
       "14. 'Street Address'\n",
       "15. 'City'\n",
       "16. 'State'\n",
       "17. 'Zip+4'\n",
       "18. 'Status'\n",
       "19. 'Type'\n",
       "20. 'New Job Title'\n",
       "21. 'Fringe Status'\n",
       "22. 'College'\n",
       "23. 'Graduation Date'\n",
       "24. 'Employer New'\n",
       "25. 'Contact'\n",
       "26. 'Email_1'\n",
       "27. 'Work Authorization'\n",
       "28. 'Major'\n",
       "\n",
       "\n"
      ],
      "text/plain": [
       " [1] \"Organization Name\"   \"RFCUNY Account #\"    \"First Name\"         \n",
       " [4] \"Last Name\"           \"Date you began work\" \"Date work ends\"     \n",
       " [7] \"Date range2\"         \"Date range\"          \"Student ID\"         \n",
       "[10] \"RF ID\"               \"Birth Date\"          \"Email\"              \n",
       "[13] \"Phone\"               \"Street Address\"      \"City\"               \n",
       "[16] \"State\"               \"Zip+4\"               \"Status\"             \n",
       "[19] \"Type\"                \"New Job Title\"       \"Fringe Status\"      \n",
       "[22] \"College\"             \"Graduation Date\"     \"Employer New\"       \n",
       "[25] \"Contact\"             \"Email_1\"             \"Work Authorization\" \n",
       "[28] \"Major\"              "
      ]
     },
     "metadata": {},
     "output_type": "display_data"
    },
    {
     "data": {
      "text/html": [
       "<table>\n",
       "<thead><tr><th scope=col>Organization Name</th><th scope=col>RFCUNY Account #</th><th scope=col>First Name</th><th scope=col>Last Name</th><th scope=col>Date you began work</th><th scope=col>Date work ends</th><th scope=col>Date range2</th><th scope=col>Date range</th><th scope=col>Student ID</th><th scope=col>RF ID</th><th scope=col>...</th><th scope=col>Type</th><th scope=col>New Job Title</th><th scope=col>Fringe Status</th><th scope=col>College</th><th scope=col>Graduation Date</th><th scope=col>Employer New</th><th scope=col>Contact</th><th scope=col>Email_1</th><th scope=col>Work Authorization</th><th scope=col>Major</th></tr></thead>\n",
       "<tbody>\n",
       "\t<tr><td>NYC DoITT                            </td><td>NA                                   </td><td>Stacey                               </td><td>Lao                                  </td><td>July 1, 2015                         </td><td>July 9, 2015                         </td><td>0                                    </td><td>0 to 6 months                        </td><td>      NA                             </td><td>     0                               </td><td>...                                  </td><td>Client Service/Tech Support          </td><td>Helpdesk Technician                  </td><td>NA                                   </td><td>New York City College of Technology  </td><td>1-May-17                             </td><td>NA                                   </td><td>Michael Cheung                       </td><td>mcheung@doitt.nyc.gov                </td><td>US Citizen                           </td><td>Computer Engineering Technology      </td></tr>\n",
       "\t<tr><td>NYC DoITT                            </td><td>NA                                   </td><td>Osiris                               </td><td>Mohalland                            </td><td>August 22, 2016                      </td><td>September 2, 2016                    </td><td>0                                    </td><td>0 to 6 months                        </td><td>15206874                             </td><td>     0                               </td><td>...                                  </td><td>Administrative                       </td><td>Communications Intern                </td><td>NA                                   </td><td>Brooklyn College                     </td><td>1-Dec-16                             </td><td>NA                                   </td><td>Stephen Fagen                        </td><td>sfagen@doitt.nyc.gov                 </td><td>US Citizen                           </td><td>Film, Communications                 </td></tr>\n",
       "\t<tr><td>NYC DoITT                            </td><td>Fellowships (59000-00)               </td><td>Satya                                </td><td>Gupta                                </td><td>July 10, 2017                        </td><td>August 25, 2017                      </td><td>1                                    </td><td>0 to 6 months                        </td><td>16025184                             </td><td>     0                               </td><td>...                                  </td><td>Client Service/Tech Support          </td><td>Application Development              </td><td>Full-Time                            </td><td>City College                         </td><td>1-May-17                             </td><td>NA                                   </td><td>Emily Johnson                        </td><td>techfellows@doitt.nyc.gov            </td><td>F-1 Visa                             </td><td>Computer Science                     </td></tr>\n",
       "\t<tr><td>NYC DoITT                            </td><td>DoITT - Service Management (59900-20)</td><td>Victoria                             </td><td>Torres Roseway                       </td><td>September 16, 2019                   </td><td>October 23, 2019                     </td><td>1                                    </td><td>0 to 6 months                        </td><td>23847696                             </td><td>143758                               </td><td>...                                  </td><td>Client Service/Tech Support          </td><td>DoITT CityWide Services Desk Agent   </td><td>PT-A                                 </td><td>Kingsborough Community College       </td><td>1-May-21                             </td><td>NA                                   </td><td>NA                                   </td><td>NA                                   </td><td>US Citizen                           </td><td>Liberal Studies                      </td></tr>\n",
       "\t<tr><td>NYC DoITT                            </td><td>NA                                   </td><td>Dawn                                 </td><td>Xavier                               </td><td>April 18, 2016                       </td><td>June 30, 2016                        </td><td>2                                    </td><td>0 to 6 months                        </td><td>23229497                             </td><td>     0                               </td><td>...                                  </td><td>Geographic Information Systems (GIS) </td><td>Geographic Information Systems Intern</td><td>NA                                   </td><td>Lehman College                       </td><td>1-Dec-16                             </td><td>NA                                   </td><td>Colin Reilly                         </td><td>creilly@doitt.nyc.gov                </td><td>US Citizen                           </td><td>Geography                            </td></tr>\n",
       "\t<tr><td>NYC DoITT                            </td><td>NA                                   </td><td>Ostap                                </td><td>Lopatskyy                            </td><td>September 2, 2014                    </td><td>December 23, 2014                    </td><td>3                                    </td><td>0 to 6 months                        </td><td>      NA                             </td><td>117222                               </td><td>...                                  </td><td>Client Service/Tech Support          </td><td>Service Desk  Agent                  </td><td>NA                                   </td><td>Hunter College                       </td><td>1-May-17                             </td><td>NA                                   </td><td>David Gross                          </td><td>dgross@doitt.nyc.gov                 </td><td>US Citizen                           </td><td>Computer Science                     </td></tr>\n",
       "</tbody>\n",
       "</table>\n"
      ],
      "text/latex": [
       "\\begin{tabular}{r|llllllllllllllllllllllllllll}\n",
       " Organization Name & RFCUNY Account \\# & First Name & Last Name & Date you began work & Date work ends & Date range2 & Date range & Student ID & RF ID & ... & Type & New Job Title & Fringe Status & College & Graduation Date & Employer New & Contact & Email\\_1 & Work Authorization & Major\\\\\n",
       "\\hline\n",
       "\t NYC DoITT                             & NA                                    & Stacey                                & Lao                                   & July 1, 2015                          & July 9, 2015                          & 0                                     & 0 to 6 months                         &       NA                              &      0                                & ...                                   & Client Service/Tech Support           & Helpdesk Technician                   & NA                                    & New York City College of Technology   & 1-May-17                              & NA                                    & Michael Cheung                        & mcheung@doitt.nyc.gov                 & US Citizen                            & Computer Engineering Technology      \\\\\n",
       "\t NYC DoITT                             & NA                                    & Osiris                                & Mohalland                             & August 22, 2016                       & September 2, 2016                     & 0                                     & 0 to 6 months                         & 15206874                              &      0                                & ...                                   & Administrative                        & Communications Intern                 & NA                                    & Brooklyn College                      & 1-Dec-16                              & NA                                    & Stephen Fagen                         & sfagen@doitt.nyc.gov                  & US Citizen                            & Film, Communications                 \\\\\n",
       "\t NYC DoITT                             & Fellowships (59000-00)                & Satya                                 & Gupta                                 & July 10, 2017                         & August 25, 2017                       & 1                                     & 0 to 6 months                         & 16025184                              &      0                                & ...                                   & Client Service/Tech Support           & Application Development               & Full-Time                             & City College                          & 1-May-17                              & NA                                    & Emily Johnson                         & techfellows@doitt.nyc.gov             & F-1 Visa                              & Computer Science                     \\\\\n",
       "\t NYC DoITT                             & DoITT - Service Management (59900-20) & Victoria                              & Torres Roseway                        & September 16, 2019                    & October 23, 2019                      & 1                                     & 0 to 6 months                         & 23847696                              & 143758                                & ...                                   & Client Service/Tech Support           & DoITT CityWide Services Desk Agent    & PT-A                                  & Kingsborough Community College        & 1-May-21                              & NA                                    & NA                                    & NA                                    & US Citizen                            & Liberal Studies                      \\\\\n",
       "\t NYC DoITT                             & NA                                    & Dawn                                  & Xavier                                & April 18, 2016                        & June 30, 2016                         & 2                                     & 0 to 6 months                         & 23229497                              &      0                                & ...                                   & Geographic Information Systems (GIS)  & Geographic Information Systems Intern & NA                                    & Lehman College                        & 1-Dec-16                              & NA                                    & Colin Reilly                          & creilly@doitt.nyc.gov                 & US Citizen                            & Geography                            \\\\\n",
       "\t NYC DoITT                             & NA                                    & Ostap                                 & Lopatskyy                             & September 2, 2014                     & December 23, 2014                     & 3                                     & 0 to 6 months                         &       NA                              & 117222                                & ...                                   & Client Service/Tech Support           & Service Desk  Agent                   & NA                                    & Hunter College                        & 1-May-17                              & NA                                    & David Gross                           & dgross@doitt.nyc.gov                  & US Citizen                            & Computer Science                     \\\\\n",
       "\\end{tabular}\n"
      ],
      "text/markdown": [
       "\n",
       "| Organization Name | RFCUNY Account # | First Name | Last Name | Date you began work | Date work ends | Date range2 | Date range | Student ID | RF ID | ... | Type | New Job Title | Fringe Status | College | Graduation Date | Employer New | Contact | Email_1 | Work Authorization | Major |\n",
       "|---|---|---|---|---|---|---|---|---|---|---|---|---|---|---|---|---|---|---|---|---|\n",
       "| NYC DoITT                             | NA                                    | Stacey                                | Lao                                   | July 1, 2015                          | July 9, 2015                          | 0                                     | 0 to 6 months                         |       NA                              |      0                                | ...                                   | Client Service/Tech Support           | Helpdesk Technician                   | NA                                    | New York City College of Technology   | 1-May-17                              | NA                                    | Michael Cheung                        | mcheung@doitt.nyc.gov                 | US Citizen                            | Computer Engineering Technology       |\n",
       "| NYC DoITT                             | NA                                    | Osiris                                | Mohalland                             | August 22, 2016                       | September 2, 2016                     | 0                                     | 0 to 6 months                         | 15206874                              |      0                                | ...                                   | Administrative                        | Communications Intern                 | NA                                    | Brooklyn College                      | 1-Dec-16                              | NA                                    | Stephen Fagen                         | sfagen@doitt.nyc.gov                  | US Citizen                            | Film, Communications                  |\n",
       "| NYC DoITT                             | Fellowships (59000-00)                | Satya                                 | Gupta                                 | July 10, 2017                         | August 25, 2017                       | 1                                     | 0 to 6 months                         | 16025184                              |      0                                | ...                                   | Client Service/Tech Support           | Application Development               | Full-Time                             | City College                          | 1-May-17                              | NA                                    | Emily Johnson                         | techfellows@doitt.nyc.gov             | F-1 Visa                              | Computer Science                      |\n",
       "| NYC DoITT                             | DoITT - Service Management (59900-20) | Victoria                              | Torres Roseway                        | September 16, 2019                    | October 23, 2019                      | 1                                     | 0 to 6 months                         | 23847696                              | 143758                                | ...                                   | Client Service/Tech Support           | DoITT CityWide Services Desk Agent    | PT-A                                  | Kingsborough Community College        | 1-May-21                              | NA                                    | NA                                    | NA                                    | US Citizen                            | Liberal Studies                       |\n",
       "| NYC DoITT                             | NA                                    | Dawn                                  | Xavier                                | April 18, 2016                        | June 30, 2016                         | 2                                     | 0 to 6 months                         | 23229497                              |      0                                | ...                                   | Geographic Information Systems (GIS)  | Geographic Information Systems Intern | NA                                    | Lehman College                        | 1-Dec-16                              | NA                                    | Colin Reilly                          | creilly@doitt.nyc.gov                 | US Citizen                            | Geography                             |\n",
       "| NYC DoITT                             | NA                                    | Ostap                                 | Lopatskyy                             | September 2, 2014                     | December 23, 2014                     | 3                                     | 0 to 6 months                         |       NA                              | 117222                                | ...                                   | Client Service/Tech Support           | Service Desk  Agent                   | NA                                    | Hunter College                        | 1-May-17                              | NA                                    | David Gross                           | dgross@doitt.nyc.gov                  | US Citizen                            | Computer Science                      |\n",
       "\n"
      ],
      "text/plain": [
       "  Organization Name RFCUNY Account #                      First Name\n",
       "1 NYC DoITT         NA                                    Stacey    \n",
       "2 NYC DoITT         NA                                    Osiris    \n",
       "3 NYC DoITT         Fellowships (59000-00)                Satya     \n",
       "4 NYC DoITT         DoITT - Service Management (59900-20) Victoria  \n",
       "5 NYC DoITT         NA                                    Dawn      \n",
       "6 NYC DoITT         NA                                    Ostap     \n",
       "  Last Name      Date you began work Date work ends    Date range2\n",
       "1 Lao            July 1, 2015        July 9, 2015      0          \n",
       "2 Mohalland      August 22, 2016     September 2, 2016 0          \n",
       "3 Gupta          July 10, 2017       August 25, 2017   1          \n",
       "4 Torres Roseway September 16, 2019  October 23, 2019  1          \n",
       "5 Xavier         April 18, 2016      June 30, 2016     2          \n",
       "6 Lopatskyy      September 2, 2014   December 23, 2014 3          \n",
       "  Date range    Student ID RF ID  ... Type                                \n",
       "1 0 to 6 months       NA        0 ... Client Service/Tech Support         \n",
       "2 0 to 6 months 15206874        0 ... Administrative                      \n",
       "3 0 to 6 months 16025184        0 ... Client Service/Tech Support         \n",
       "4 0 to 6 months 23847696   143758 ... Client Service/Tech Support         \n",
       "5 0 to 6 months 23229497        0 ... Geographic Information Systems (GIS)\n",
       "6 0 to 6 months       NA   117222 ... Client Service/Tech Support         \n",
       "  New Job Title                         Fringe Status\n",
       "1 Helpdesk Technician                   NA           \n",
       "2 Communications Intern                 NA           \n",
       "3 Application Development               Full-Time    \n",
       "4 DoITT CityWide Services Desk Agent    PT-A         \n",
       "5 Geographic Information Systems Intern NA           \n",
       "6 Service Desk  Agent                   NA           \n",
       "  College                             Graduation Date Employer New\n",
       "1 New York City College of Technology 1-May-17        NA          \n",
       "2 Brooklyn College                    1-Dec-16        NA          \n",
       "3 City College                        1-May-17        NA          \n",
       "4 Kingsborough Community College      1-May-21        NA          \n",
       "5 Lehman College                      1-Dec-16        NA          \n",
       "6 Hunter College                      1-May-17        NA          \n",
       "  Contact        Email_1                   Work Authorization\n",
       "1 Michael Cheung mcheung@doitt.nyc.gov     US Citizen        \n",
       "2 Stephen Fagen  sfagen@doitt.nyc.gov      US Citizen        \n",
       "3 Emily Johnson  techfellows@doitt.nyc.gov F-1 Visa          \n",
       "4 NA             NA                        US Citizen        \n",
       "5 Colin Reilly   creilly@doitt.nyc.gov     US Citizen        \n",
       "6 David Gross    dgross@doitt.nyc.gov      US Citizen        \n",
       "  Major                          \n",
       "1 Computer Engineering Technology\n",
       "2 Film, Communications           \n",
       "3 Computer Science               \n",
       "4 Liberal Studies                \n",
       "5 Geography                      \n",
       "6 Computer Science               "
      ]
     },
     "metadata": {},
     "output_type": "display_data"
    },
    {
     "name": "stdout",
     "output_type": "stream",
     "text": [
      "Observations: 82\n",
      "Variables: 28\n",
      "$ `Organization Name`   <chr> \"NYC DoITT\", \"NYC DoITT\", \"NYC DoITT\", \"NYC D...\n",
      "$ `RFCUNY Account #`    <chr> NA, NA, \"Fellowships (59000-00)\", \"DoITT - Se...\n",
      "$ `First Name`          <chr> \"Stacey\", \"Osiris\", \"Satya\", \"Victoria\", \"Daw...\n",
      "$ `Last Name`           <chr> \"Lao\", \"Mohalland\", \"Gupta\", \"Torres Roseway\"...\n",
      "$ `Date you began work` <chr> \"July 1, 2015\", \"August 22, 2016\", \"July 10, ...\n",
      "$ `Date work ends`      <chr> \"July 9, 2015\", \"September 2, 2016\", \"August ...\n",
      "$ `Date range2`         <dbl> 0, 0, 1, 1, 2, 3, 3, 3, 3, 4, 5, 5, 5, 5, 6, ...\n",
      "$ `Date range`          <chr> \"0 to 6 months\", \"0 to 6 months\", \"0 to 6 mon...\n",
      "$ `Student ID`          <dbl> NA, 15206874, 16025184, 23847696, 23229497, N...\n",
      "$ `RF ID`               <dbl> 0, 0, 0, 143758, 0, 117222, 0, 0, 0, 0, 0, 13...\n",
      "$ `Birth Date`          <chr> \"15-Oct-91\", \"28-Mar-91\", \"23-Nov-94\", \"8-Aug...\n",
      "$ Email                 <chr> \"staceylao1015@gmail.com\", \"omohalland@yahoo....\n",
      "$ Phone                 <chr> \"7185786628\", \"9175042872\", \"6462512848\", \"71...\n",
      "$ `Street Address`      <chr> \"1837 Bay Ridge Avenue\\n1st FL\", \"212 W. King...\n",
      "$ City                  <chr> \"Brooklyn\", \"Bronx\", \"Flushing\", \"Brooklyn\", ...\n",
      "$ State                 <chr> \"New York\", \"New York\", \"New York\", \"New York...\n",
      "$ `Zip+4`               <chr> \"11204\", \"10463\", \"11355\", \"11236\", \"10451\", ...\n",
      "$ Status                <chr> \"Other\", \"Resigned\", \"Other Employment Opport...\n",
      "$ Type                  <chr> \"Client Service/Tech Support\", \"Administrativ...\n",
      "$ `New Job Title`       <chr> \"Helpdesk Technician\", \"Communications Intern...\n",
      "$ `Fringe Status`       <chr> NA, NA, \"Full-Time\", \"PT-A\", NA, NA, NA, NA, ...\n",
      "$ College               <chr> \"New York City College of Technology\", \"Brook...\n",
      "$ `Graduation Date`     <chr> \"1-May-17\", \"1-Dec-16\", \"1-May-17\", \"1-May-21...\n",
      "$ `Employer New`        <lgl> NA, NA, NA, NA, NA, NA, NA, NA, NA, NA, NA, N...\n",
      "$ Contact               <chr> \"Michael Cheung\", \"Stephen Fagen\", \"Emily Joh...\n",
      "$ Email_1               <chr> \"mcheung@doitt.nyc.gov\", \"sfagen@doitt.nyc.go...\n",
      "$ `Work Authorization`  <chr> \"US Citizen\", \"US Citizen\", \"F-1 Visa\", \"US C...\n",
      "$ Major                 <chr> \"Computer Engineering Technology\", \"Film, Com...\n"
     ]
    },
    {
     "name": "stderr",
     "output_type": "stream",
     "text": [
      "Warning message:\n",
      "\" 2 failed to parse.\"Warning message:\n",
      "\"All formats failed to parse. No formats found.\""
     ]
    }
   ],
   "source": [
    "\n",
    "warnings=F\n",
    "library(IRdisplay)\n",
    "library(ggpubr)\n",
    "library(lubridate)\n",
    "library(tidyverse)\n",
    "library(kableExtra)\n",
    "doitt <- read_csv(\"DoITT Fellows and Interns.csv\")\n",
    "names(doitt)\n",
    "head(doitt)\n",
    "glimpse(doitt)\n",
    "\n",
    "doitt$`Date you began work` <-mdy(doitt$`Date you began work`)\n",
    "doitt$`Date work ends` <-mdy(doitt$`Date work ends`)\n",
    "doitt$`Graduation Date` <- mdy(doitt$`Graduation Date`)        \n",
    "doitt$City <- as.factor(doitt$City)  \n",
    "doitt$Major <- as.factor(doitt$Major)  \n",
    "doitt$College <- as.factor(doitt$College)          \n",
    "doitt$Type <- as.factor(doitt$Type)\n",
    "doitt$Type <- fct_explicit_na(doitt$Type)\n",
    "doitt$Status <- as.factor(doitt$Status)\n"
   ]
  },
  {
   "cell_type": "code",
   "execution_count": 15,
   "metadata": {},
   "outputs": [],
   "source": [
    "college_vs_com <-  doitt %>%\n",
    "  mutate(num_per_year = format(doitt$`Date you began work`, format= \"%Y\"),\n",
    "        com_vs_4year =ifelse(doitt$College == \"York College\",\"4 Year Schools\",                              ifelse(doitt$College == \"Macaulay Honors College\",\"4 Year Schools\",ifelse(doitt$College ==\"John Jay College of Criminal Justice\",\"4 Year Schools\",ifelse(doitt$College ==\"College of Staten Island\",\"4 Year Schools\",ifelse(doitt$College == \"LaGuardia Community College\", \"Community Colleges\",ifelse(doitt$College ==\"Bronx Community College\", \"Community Colleges\",ifelse(doitt$College==\"Kingsborough Community College\",\"Community Colleges\",ifelse(doitt$College==\"Borough of Manhattan Community College\", \"Community Colleges\",ifelse(doitt$College==\"Guttman Community College\", \"Community Colleges\",ifelse(doitt$College== \"CUNY Graduate Center\",\"CUNY Graduate School\",ifelse(doitt$College == \"Baruch College\",\"4 Year Schools\",ifelse(doitt$College == \"City College\",\"4 Year Schools\",ifelse(doitt$College ==\"Hunter College\",\"4 Year Schools\",ifelse(doitt$College == \"Queens College\",\"4 Year Schools\",ifelse(doitt$College==\"New York City College of Technology\",\"New York City College of Technology\",ifelse(doitt$College == \"Lehman College\",\"4 Year Schools\",ifelse(doitt$College ==\"Brooklyn College\",\"4 Year Schools\",\"\"))))))))))))))))))\n"
   ]
  },
  {
   "cell_type": "markdown",
   "metadata": {},
   "source": [
    "Below are the common experiential learning types that the students participate in at DoITT. Among all the 82 interns and fellows who worked at DoITT, 43 of them worked in client service/tech support roles, While the remaining 39 students worked in various other computer-related roles, as shown in the graph. The majority of the students who worked or are currently working in client service/tech support roles are interns, while the majority of the other job types are held by students who are part of the fellowship. "
   ]
  },
  {
   "cell_type": "code",
   "execution_count": 16,
   "metadata": {},
   "outputs": [
    {
     "data": {
      "image/png": "[encoded data removed]",
      "text/plain": [
       "plot without title"
      ]
     },
     "metadata": {},
     "output_type": "display_data"
    }
   ],
   "source": [
    "\n",
    "type <- doitt$Type\n",
    "\n",
    "type2 <- plyr::count(type)\n",
    "\n",
    "a <- ggplot( type2, aes(x= fct_reorder(x , freq), y = freq, fill = x))+geom_bar(stat = \"identity\", width = 0.2)+coord_flip()+theme_pubclean ()+ theme(legend.position = \"NONE\")\n",
    "a + labs(title = \"Experiential Learning Type: Fellows & Interns\", caption =  \"Data Source: CIP Symplicity\",x= NULL, y= \"Number of Students\")+ geom_text(aes(label = freq, y = freq + 1))\n"
   ]
  },
  {
   "cell_type": "markdown",
   "metadata": {},
   "source": [
    "\n",
    "\n",
    "Client service/ tech support roles were the only job types that students who worked at DoITT from 2012 to 2014 held. However, from 2015 onwards, this trend changed. In 2016, among the nine students who began working at DoITT, three of them worked in Geographic Information System. Similarly, In 2017, four students worked as application developers, three worked as network administrators, and four worked as systems analyst/design."
   ]
  },
  {
   "cell_type": "code",
   "execution_count": 5,
   "metadata": {},
   "outputs": [
    {
     "data": {
      "text/html": [
       "<table class=\"table table-striped table-hover table-condensed\" style=\"margin-left: auto; margin-right: auto;\">\n",
       " <thead>\n",
       "  <tr>\n",
       "   <th style=\"text-align:left;\">   </th>\n",
       "   <th style=\"text-align:center;\"> 2012 </th>\n",
       "   <th style=\"text-align:center;\"> 2013 </th>\n",
       "   <th style=\"text-align:center;\"> 2014 </th>\n",
       "   <th style=\"text-align:center;\"> 2015 </th>\n",
       "   <th style=\"text-align:center;\"> 2016 </th>\n",
       "   <th style=\"text-align:center;\"> 2017 </th>\n",
       "   <th style=\"text-align:center;\"> 2018 </th>\n",
       "   <th style=\"text-align:center;\"> 2019 </th>\n",
       "  </tr>\n",
       " </thead>\n",
       "<tbody>\n",
       "  <tr>\n",
       "   <td style=\"text-align:left;\"> Administrative </td>\n",
       "   <td style=\"text-align:center;\"> 0 </td>\n",
       "   <td style=\"text-align:center;\"> 0 </td>\n",
       "   <td style=\"text-align:center;\"> 0 </td>\n",
       "   <td style=\"text-align:center;\"> 1 </td>\n",
       "   <td style=\"text-align:center;\"> 1 </td>\n",
       "   <td style=\"text-align:center;\"> 0 </td>\n",
       "   <td style=\"text-align:center;\"> 0 </td>\n",
       "   <td style=\"text-align:center;\"> 1 </td>\n",
       "  </tr>\n",
       "  <tr>\n",
       "   <td style=\"text-align:left;\"> Application Development </td>\n",
       "   <td style=\"text-align:center;\"> 0 </td>\n",
       "   <td style=\"text-align:center;\"> 0 </td>\n",
       "   <td style=\"text-align:center;\"> 0 </td>\n",
       "   <td style=\"text-align:center;\"> 0 </td>\n",
       "   <td style=\"text-align:center;\"> 0 </td>\n",
       "   <td style=\"text-align:center;\"> 4 </td>\n",
       "   <td style=\"text-align:center;\"> 0 </td>\n",
       "   <td style=\"text-align:center;\"> 1 </td>\n",
       "  </tr>\n",
       "  <tr>\n",
       "   <td style=\"text-align:left;\"> Business Analysis </td>\n",
       "   <td style=\"text-align:center;\"> 0 </td>\n",
       "   <td style=\"text-align:center;\"> 0 </td>\n",
       "   <td style=\"text-align:center;\"> 0 </td>\n",
       "   <td style=\"text-align:center;\"> 1 </td>\n",
       "   <td style=\"text-align:center;\"> 1 </td>\n",
       "   <td style=\"text-align:center;\"> 0 </td>\n",
       "   <td style=\"text-align:center;\"> 2 </td>\n",
       "   <td style=\"text-align:center;\"> 0 </td>\n",
       "  </tr>\n",
       "  <tr>\n",
       "   <td style=\"text-align:left;\"> Client Service/Tech Support </td>\n",
       "   <td style=\"text-align:center;\"> 2 </td>\n",
       "   <td style=\"text-align:center;\"> 4 </td>\n",
       "   <td style=\"text-align:center;\"> 8 </td>\n",
       "   <td style=\"text-align:center;\"> 9 </td>\n",
       "   <td style=\"text-align:center;\"> 4 </td>\n",
       "   <td style=\"text-align:center;\"> 6 </td>\n",
       "   <td style=\"text-align:center;\"> 4 </td>\n",
       "   <td style=\"text-align:center;\"> 6 </td>\n",
       "  </tr>\n",
       "  <tr>\n",
       "   <td style=\"text-align:left;\"> Data/Digital Services </td>\n",
       "   <td style=\"text-align:center;\"> 0 </td>\n",
       "   <td style=\"text-align:center;\"> 0 </td>\n",
       "   <td style=\"text-align:center;\"> 0 </td>\n",
       "   <td style=\"text-align:center;\"> 0 </td>\n",
       "   <td style=\"text-align:center;\"> 0 </td>\n",
       "   <td style=\"text-align:center;\"> 0 </td>\n",
       "   <td style=\"text-align:center;\"> 0 </td>\n",
       "   <td style=\"text-align:center;\"> 1 </td>\n",
       "  </tr>\n",
       "  <tr>\n",
       "   <td style=\"text-align:left;\"> Database Admin </td>\n",
       "   <td style=\"text-align:center;\"> 0 </td>\n",
       "   <td style=\"text-align:center;\"> 0 </td>\n",
       "   <td style=\"text-align:center;\"> 0 </td>\n",
       "   <td style=\"text-align:center;\"> 1 </td>\n",
       "   <td style=\"text-align:center;\"> 0 </td>\n",
       "   <td style=\"text-align:center;\"> 2 </td>\n",
       "   <td style=\"text-align:center;\"> 2 </td>\n",
       "   <td style=\"text-align:center;\"> 0 </td>\n",
       "  </tr>\n",
       "  <tr>\n",
       "   <td style=\"text-align:left;\"> Finance/Procurement </td>\n",
       "   <td style=\"text-align:center;\"> 0 </td>\n",
       "   <td style=\"text-align:center;\"> 0 </td>\n",
       "   <td style=\"text-align:center;\"> 0 </td>\n",
       "   <td style=\"text-align:center;\"> 0 </td>\n",
       "   <td style=\"text-align:center;\"> 0 </td>\n",
       "   <td style=\"text-align:center;\"> 0 </td>\n",
       "   <td style=\"text-align:center;\"> 1 </td>\n",
       "   <td style=\"text-align:center;\"> 1 </td>\n",
       "  </tr>\n",
       "  <tr>\n",
       "   <td style=\"text-align:left;\"> Geographic Information Systems (GIS) </td>\n",
       "   <td style=\"text-align:center;\"> 0 </td>\n",
       "   <td style=\"text-align:center;\"> 0 </td>\n",
       "   <td style=\"text-align:center;\"> 0 </td>\n",
       "   <td style=\"text-align:center;\"> 0 </td>\n",
       "   <td style=\"text-align:center;\"> 3 </td>\n",
       "   <td style=\"text-align:center;\"> 1 </td>\n",
       "   <td style=\"text-align:center;\"> 1 </td>\n",
       "   <td style=\"text-align:center;\"> 2 </td>\n",
       "  </tr>\n",
       "  <tr>\n",
       "   <td style=\"text-align:left;\"> Network Administration </td>\n",
       "   <td style=\"text-align:center;\"> 0 </td>\n",
       "   <td style=\"text-align:center;\"> 0 </td>\n",
       "   <td style=\"text-align:center;\"> 0 </td>\n",
       "   <td style=\"text-align:center;\"> 0 </td>\n",
       "   <td style=\"text-align:center;\"> 0 </td>\n",
       "   <td style=\"text-align:center;\"> 3 </td>\n",
       "   <td style=\"text-align:center;\"> 1 </td>\n",
       "   <td style=\"text-align:center;\"> 1 </td>\n",
       "  </tr>\n",
       "  <tr>\n",
       "   <td style=\"text-align:left;\"> Policy/Program Analysis </td>\n",
       "   <td style=\"text-align:center;\"> 0 </td>\n",
       "   <td style=\"text-align:center;\"> 0 </td>\n",
       "   <td style=\"text-align:center;\"> 0 </td>\n",
       "   <td style=\"text-align:center;\"> 0 </td>\n",
       "   <td style=\"text-align:center;\"> 0 </td>\n",
       "   <td style=\"text-align:center;\"> 0 </td>\n",
       "   <td style=\"text-align:center;\"> 0 </td>\n",
       "   <td style=\"text-align:center;\"> 1 </td>\n",
       "  </tr>\n",
       "  <tr>\n",
       "   <td style=\"text-align:left;\"> Systems Analysis and Design </td>\n",
       "   <td style=\"text-align:center;\"> 0 </td>\n",
       "   <td style=\"text-align:center;\"> 0 </td>\n",
       "   <td style=\"text-align:center;\"> 0 </td>\n",
       "   <td style=\"text-align:center;\"> 0 </td>\n",
       "   <td style=\"text-align:center;\"> 0 </td>\n",
       "   <td style=\"text-align:center;\"> 4 </td>\n",
       "   <td style=\"text-align:center;\"> 2 </td>\n",
       "   <td style=\"text-align:center;\"> 0 </td>\n",
       "  </tr>\n",
       "</tbody>\n",
       "</table>"
      ]
     },
     "metadata": {},
     "output_type": "display_data"
    }
   ],
   "source": [
    "kable(table(college_vs_com$Type, college_vs_com$num_per_year), align = \"ccccccccc\")%>%\n",
    "  kable_styling(bootstrap_options = c(\"striped\", \"hover\", \"condensed\", full_width=F, caption=\"\" ))%>%\n",
    "as.character()%>%\n",
    "display_html()\n"
   ]
  },
  {
   "cell_type": "markdown",
   "metadata": {},
   "source": [
    "\n",
    "The graph below depicts the number of students that began working at DoITT as interns or fellows for each year."
   ]
  },
  {
   "cell_type": "code",
   "execution_count": 6,
   "metadata": {},
   "outputs": [
    {
     "data": {
      "image/png": "[encoded data removed]",
      "text/plain": [
       "plot without title"
      ]
     },
     "metadata": {},
     "output_type": "display_data"
    }
   ],
   "source": [
    "\n",
    "doitt2 <- doitt %>%\n",
    "  mutate(num_per_year = format(doitt$`Date you began work`, format= \"%Y\"))\n",
    "\n",
    "b <-plyr::count(doitt2$num_per_year)\n",
    "\n",
    "\n",
    "b2 <- ggplot(b, aes(x= b$x, y = b$freq, fill= b$x))+\n",
    "  geom_bar(stat = \"identity\", width = 0.3, col = \"black\")\n",
    "\n",
    "b2 + labs( title = \"Number of Students Hired as Interns or Fellows per Year\", caption =  \"Data Source: CIP Symplicity\", x = \"Year\", y= NULL)+ \n",
    "theme_pubclean()+ theme(legend.position = \"NONE\") + geom_text(aes(label =b$freq, y = b$freq + 1))"
   ]
  },
  {
   "cell_type": "markdown",
   "metadata": {},
   "source": [
    "\n",
    "As of today, among the students who worked at DoITT, 14 of them were able to transition to full-time employees at the agency. Eighteen of them are currently still working as interns or fellows."
   ]
  },
  {
   "cell_type": "code",
   "execution_count": 7,
   "metadata": {},
   "outputs": [
    {
     "data": {
      "text/html": [
       "<table class=\"table table-striped table-hover table-condensed\" style=\"margin-left: auto; margin-right: auto;\">\n",
       " <thead>\n",
       "  <tr>\n",
       "   <th style=\"text-align:left;\"> Status </th>\n",
       "   <th style=\"text-align:center;\"> # of Interns </th>\n",
       "   <th style=\"text-align:right;\"> Percentage </th>\n",
       "  </tr>\n",
       " </thead>\n",
       "<tbody>\n",
       "  <tr>\n",
       "   <td style=\"text-align:left;font-weight: bold;color: black !important;\"> Working </td>\n",
       "   <td style=\"text-align:center;font-weight: bold;color: black !important;\"> 18 </td>\n",
       "   <td style=\"text-align:right;font-weight: bold;color: black !important;\"> 22 % </td>\n",
       "  </tr>\n",
       "  <tr>\n",
       "   <td style=\"text-align:left;\"> End of Appointment </td>\n",
       "   <td style=\"text-align:center;\"> 17 </td>\n",
       "   <td style=\"text-align:right;\"> 20.7 % </td>\n",
       "  </tr>\n",
       "  <tr>\n",
       "   <td style=\"text-align:left;font-weight: bold;color: black !important;\"> Hired by Current Agency </td>\n",
       "   <td style=\"text-align:center;font-weight: bold;color: black !important;\"> 14 </td>\n",
       "   <td style=\"text-align:right;font-weight: bold;color: black !important;\"> 17.1 % </td>\n",
       "  </tr>\n",
       "  <tr>\n",
       "   <td style=\"text-align:left;\"> Other </td>\n",
       "   <td style=\"text-align:center;\"> 10 </td>\n",
       "   <td style=\"text-align:right;\"> 12.2 % </td>\n",
       "  </tr>\n",
       "  <tr>\n",
       "   <td style=\"text-align:left;\"> Other Employment Opportunity </td>\n",
       "   <td style=\"text-align:center;\"> 10 </td>\n",
       "   <td style=\"text-align:right;\"> 12.2 % </td>\n",
       "  </tr>\n",
       "  <tr>\n",
       "   <td style=\"text-align:left;\"> No Longer Eligible </td>\n",
       "   <td style=\"text-align:center;\"> 6 </td>\n",
       "   <td style=\"text-align:right;\"> 7.3 % </td>\n",
       "  </tr>\n",
       "  <tr>\n",
       "   <td style=\"text-align:left;\"> Resigned </td>\n",
       "   <td style=\"text-align:center;\"> 5 </td>\n",
       "   <td style=\"text-align:right;\"> 6.1 % </td>\n",
       "  </tr>\n",
       "  <tr>\n",
       "   <td style=\"text-align:left;\"> Performance </td>\n",
       "   <td style=\"text-align:center;\"> 1 </td>\n",
       "   <td style=\"text-align:right;\"> 1.2 % </td>\n",
       "  </tr>\n",
       "  <tr>\n",
       "   <td style=\"text-align:left;\"> Personal/Family Reason </td>\n",
       "   <td style=\"text-align:center;\"> 1 </td>\n",
       "   <td style=\"text-align:right;\"> 1.2 % </td>\n",
       "  </tr>\n",
       "</tbody>\n",
       "</table>"
      ]
     },
     "metadata": {},
     "output_type": "display_data"
    }
   ],
   "source": [
    "d <- plyr::count(as.factor(doitt2$Status))\n",
    "\n",
    "\n",
    "\n",
    "d <- d %>%\n",
    "  arrange(desc(freq))%>%\n",
    "  mutate(percentage =paste(round(freq*100/sum(freq),1), \"%\",sep = \" \"))\n",
    "\n",
    "\n",
    "kable(d, col.names = c(\"Status\", \"# of Interns\", \"Percentage\"), align = \"lcr\")%>%\n",
    "  kable_styling(bootstrap_options = c(\"striped\", \"hover\", \"condensed\", full_width=F, caption=\"ii\" ))%>%\n",
    "  row_spec(1, bold = T, color = \"black\")%>%\n",
    "  row_spec(3, bold = T, color = \"black\")%>%\n",
    "as.character()%>%\n",
    "display_html()\n"
   ]
  },
  {
   "cell_type": "markdown",
   "metadata": {},
   "source": [
    "\n",
    "\n",
    "This is the percentage of students base on the colleges they attend. The majority of them are coming from either City Tech, City College, Brooklyn College, or Baruch, which make sense given that these colleges offer many computer-related programs."
   ]
  },
  {
   "cell_type": "code",
   "execution_count": 8,
   "metadata": {},
   "outputs": [
    {
     "data": {
      "image/png": "[encoded data removed]",
      "text/plain": [
       "plot without title"
      ]
     },
     "metadata": {},
     "output_type": "display_data"
    }
   ],
   "source": [
    "college <- doitt2$College\n",
    "\n",
    "college2 <- plyr::count(college)\n",
    "\n",
    "college2 <- college2 %>%\n",
    "  arrange(desc(freq))%>%\n",
    "  mutate(percentage =round(freq*100/sum(freq), digits = 1))\n",
    "\n",
    "college2 <- college2 %>%\n",
    "  mutate(percentage2 =paste(round(freq*100/sum(freq), digits = 1), \"%\",\" \"))\n",
    "\n",
    "c <- ggplot(college2, aes(x= fct_reorder( college2$x, college2$percentage), y= college2$percentage, fill = college2$x))+\n",
    "  geom_bar(stat = \"identity\", width = 0.1) + coord_flip()+theme_pubclean() + theme(legend.position = \"NONE\")+\n",
    "  geom_text(aes(label= percentage2, y = percentage +3))\n",
    "c + labs(title = \"Percentage of Interns per School\", caption =\"Data Source: CIP Symplicity\", x= NULL, y = NULL )\n"
   ]
  },
  {
   "cell_type": "markdown",
   "metadata": {},
   "source": [
    "\n",
    "Among all the students, 48, which is about 59% of the total, are from 4-year colleges. 13 or about 16% of the students are from community colleges. One person is from the CUNY Graduate Center. The remaining 20 students, which is about 24% of the group are from City Tech. These students are separated from the rest given that there's currently no way of identifying which students are doing 4-year programs and which are doing two-year programs. The graph below is a breakdown of the number of students who began working a DoITT each year as either an intern or a fellow base on college categories."
   ]
  },
  {
   "cell_type": "code",
   "execution_count": 9,
   "metadata": {},
   "outputs": [
    {
     "data": {
      "image/png": "[encoded data removed]",
      "text/plain": [
       "plot without title"
      ]
     },
     "metadata": {},
     "output_type": "display_data"
    }
   ],
   "source": [
    "\n",
    "g <- plyr::count(college_vs_com$com_vs_4year)\n",
    "\n",
    "g <- g%>%\n",
    "  mutate(percent = round(g$freq*100/sum(g$freq),1))\n",
    "\n",
    "\n",
    "         college_vs_com$num_per_year <- as.factor(college_vs_com$num_per_year)\n",
    "college_vs_com$com_vs_4year <- as.factor(college_vs_com$com_vs_4year)\n",
    "\n",
    "\n",
    " b<-ggplot(data = college_vs_com, aes(x=college_vs_com$num_per_year,\n",
    "                                fill= college_vs_com$com_vs_4year))+\n",
    "                                geom_bar(width = 0.7, position = \"dodge\")+                                           theme_pubclean() \n",
    "  \n",
    "b +    theme(legend.text=element_text(size=6), legend.key.width = unit(0.5,\"cm\"))+ coord_cartesian( ylim = c(0, 14))+labs(title = \"\",x= \"Year\",fill = \"Categories:\", caption = \"Data Source: CIP Symplicity\")"
   ]
  },
  {
   "cell_type": "markdown",
   "metadata": {},
   "source": [
    "\n",
    "The graph below shows how long students work at DoITT. As seen below, It's common for students to work at DoITT for a year or longer."
   ]
  },
  {
   "cell_type": "code",
   "execution_count": 10,
   "metadata": {},
   "outputs": [
    {
     "data": {
      "image/png": "[encoded data removed]",
      "text/plain": [
       "plot without title"
      ]
     },
     "metadata": {},
     "output_type": "display_data"
    }
   ],
   "source": [
    "\n",
    "Date <- plyr::count(doitt2$`Date range`)\n",
    "Date <- Date%>%\n",
    "        filter(!is.na(Date$x))\n",
    "Date <- Date%>%\n",
    "       mutate(percentage =round(freq*100/sum(freq), digits = 1))\n",
    "\n",
    "Date <- Date %>%\n",
    "  mutate(percentage2 =paste(round(freq*100/sum(freq), digits = 1), \"%\",\" \"))\n",
    "\n",
    "c <- ggplot(Date, aes(x= fct_relevel(Date$x, \"0 to 6 months\",\"6 to 12 months\",\"1 to 2 years\", \"2 to 3 years\", \"More than 3 years\"), y= Date$percentage, fill = Date$x))+\n",
    "  geom_bar(stat = \"identity\", width = 0.1)+theme_pubclean() + theme(legend.position = \"NONE\")+\n",
    "  geom_text(aes(label= percentage2, y = percentage +3))\n",
    "c + labs(title = \"Percentage of Students Base on Their Length of Internship\", caption =\"Data Source: CIP Symplicity\", x= NULL, y = NULL )+theme(axis.text.x = element_text(angle = 30, hjust = 1))\n"
   ]
  },
  {
   "cell_type": "markdown",
   "metadata": {},
   "source": [
    "\n",
    "# DoITT Fellows Only\n",
    "\n",
    "\n",
    "The graph below represent roles the 28 students who are categorized as Fellows fill."
   ]
  },
  {
   "cell_type": "code",
   "execution_count": 11,
   "metadata": {},
   "outputs": [
    {
     "data": {
      "image/png": "[encoded data removed]",
      "text/plain": [
       "plot without title"
      ]
     },
     "metadata": {},
     "output_type": "display_data"
    }
   ],
   "source": [
    "\n",
    "\n",
    "doitt_fellows <- doitt2 %>%\n",
    "                  filter(doitt2$`RFCUNY Account #` == \"Fellowships (59000-00)\")\n",
    "                  \n",
    "fellow_type <- doitt_fellows$Type\n",
    "    \n",
    "fellow_type <- plyr::count(fellow_type)          \n",
    "\n",
    "\n",
    "\n",
    "\n",
    "f <- ggplot( fellow_type, aes(x= fct_reorder(x , freq), y = freq, fill = x))+geom_bar(stat = \"identity\", width = 0.1)+coord_flip()+theme_pubclean()+ theme(legend.position = \"NONE\")\n",
    "\n",
    "f + labs(title = \"Experiential Learning Type: Fellows Only\", caption =  \"Data Source: CIP Symplicity\",x= NULL, y= \"Number of Students\")+ geom_text(aes(label = freq, y = freq + 0.1))\n"
   ]
  },
  {
   "cell_type": "code",
   "execution_count": null,
   "metadata": {},
   "outputs": [],
   "source": []
  },
  {
   "cell_type": "code",
   "execution_count": null,
   "metadata": {},
   "outputs": [],
   "source": []
  },
  {
   "cell_type": "code",
   "execution_count": null,
   "metadata": {},
   "outputs": [],
   "source": []
  }
 ],
 "metadata": {
  "kernelspec": {
   "display_name": "R",
   "language": "R",
   "name": "ir"
  },
  "language_info": {
   "codemirror_mode": "r",
   "file_extension": ".r",
   "mimetype": "text/x-r-source",
   "name": "R",
   "pygments_lexer": "r",
   "version": "3.6.1"
  }
 },
 "nbformat": 4,
 "nbformat_minor": 4
}
