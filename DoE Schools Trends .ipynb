{
 "cells": [
  {
   "cell_type": "markdown",
   "metadata": {},
   "source": [
    "\n",
    "# DoE Schools Trends"
   ]
  },
  {
   "cell_type": "markdown",
   "metadata": {},
   "source": [
    "Below is a count of the number of schools that are partnered with CUNY Internship Program for internship service.\n",
    "\n"
   ]
  },
  {
   "cell_type": "code",
   "execution_count": 26,
   "metadata": {},
   "outputs": [
    {
     "data": {
      "text/html": [
       "<table>\n",
       "<thead><tr><th scope=col>ï..Year</th><th scope=col>Amount</th><th scope=col>DBN</th><th scope=col>school.name</th><th scope=col>Borough</th><th scope=col>Zip</th></tr></thead>\n",
       "<tbody>\n",
       "\t<tr><td>1/1/2017                                                     </td><td>$1,486.00                                                    </td><td>25Q281                                                       </td><td>East-West School of International Studies                    </td><td>QUEENS                                                       </td><td>NY                                                           </td></tr>\n",
       "\t<tr><td>1/1/2017                                                     </td><td>$1,486.00                                                    </td><td>26Q566                                                       </td><td>Queens High School of Teaching, Liberal Arts and the Sciences</td><td>QUEENS                                                       </td><td>NY                                                           </td></tr>\n",
       "\t<tr><td>1/1/2017                                                     </td><td>$1,486.00                                                    </td><td>14K558                                                       </td><td>Williamsburg High School for Architecture and Design         </td><td>BROOKLYN                                                     </td><td>NY                                                           </td></tr>\n",
       "\t<tr><td>1/1/2017                                                     </td><td>$1,486.00                                                    </td><td>21K468                                                       </td><td>Kingsborough Early College School                            </td><td>BROOKLYN                                                     </td><td>NY                                                           </td></tr>\n",
       "\t<tr><td>1/1/2017                                                     </td><td>$1,531.00                                                    </td><td>12X129                                                       </td><td>M.S. 129 Academy for Independent Learning and Leadership     </td><td>BRONX                                                        </td><td>NY                                                           </td></tr>\n",
       "\t<tr><td>1/1/2017                                                     </td><td>$1,486.00                                                    </td><td>12X521                                                       </td><td>The Metropolitan Soundview High School                       </td><td>BRONX                                                        </td><td>NY                                                           </td></tr>\n",
       "</tbody>\n",
       "</table>\n"
      ],
      "text/latex": [
       "\\begin{tabular}{r|llllll}\n",
       " ï..Year & Amount & DBN & school.name & Borough & Zip\\\\\n",
       "\\hline\n",
       "\t 1/1/2017                                                      & \\$1,486.00                                                   & 25Q281                                                        & East-West School of International Studies                     & QUEENS                                                        & NY                                                           \\\\\n",
       "\t 1/1/2017                                                      & \\$1,486.00                                                   & 26Q566                                                        & Queens High School of Teaching, Liberal Arts and the Sciences & QUEENS                                                        & NY                                                           \\\\\n",
       "\t 1/1/2017                                                      & \\$1,486.00                                                   & 14K558                                                        & Williamsburg High School for Architecture and Design          & BROOKLYN                                                      & NY                                                           \\\\\n",
       "\t 1/1/2017                                                      & \\$1,486.00                                                   & 21K468                                                        & Kingsborough Early College School                             & BROOKLYN                                                      & NY                                                           \\\\\n",
       "\t 1/1/2017                                                      & \\$1,531.00                                                   & 12X129                                                        & M.S. 129 Academy for Independent Learning and Leadership      & BRONX                                                         & NY                                                           \\\\\n",
       "\t 1/1/2017                                                      & \\$1,486.00                                                   & 12X521                                                        & The Metropolitan Soundview High School                        & BRONX                                                         & NY                                                           \\\\\n",
       "\\end{tabular}\n"
      ],
      "text/markdown": [
       "\n",
       "| ï..Year | Amount | DBN | school.name | Borough | Zip |\n",
       "|---|---|---|---|---|---|\n",
       "| 1/1/2017                                                      | $1,486.00                                                     | 25Q281                                                        | East-West School of International Studies                     | QUEENS                                                        | NY                                                            |\n",
       "| 1/1/2017                                                      | $1,486.00                                                     | 26Q566                                                        | Queens High School of Teaching, Liberal Arts and the Sciences | QUEENS                                                        | NY                                                            |\n",
       "| 1/1/2017                                                      | $1,486.00                                                     | 14K558                                                        | Williamsburg High School for Architecture and Design          | BROOKLYN                                                      | NY                                                            |\n",
       "| 1/1/2017                                                      | $1,486.00                                                     | 21K468                                                        | Kingsborough Early College School                             | BROOKLYN                                                      | NY                                                            |\n",
       "| 1/1/2017                                                      | $1,531.00                                                     | 12X129                                                        | M.S. 129 Academy for Independent Learning and Leadership      | BRONX                                                         | NY                                                            |\n",
       "| 1/1/2017                                                      | $1,486.00                                                     | 12X521                                                        | The Metropolitan Soundview High School                        | BRONX                                                         | NY                                                            |\n",
       "\n"
      ],
      "text/plain": [
       "  ï..Year  Amount     DBN   \n",
       "1 1/1/2017 $1,486.00  25Q281\n",
       "2 1/1/2017 $1,486.00  26Q566\n",
       "3 1/1/2017 $1,486.00  14K558\n",
       "4 1/1/2017 $1,486.00  21K468\n",
       "5 1/1/2017 $1,531.00  12X129\n",
       "6 1/1/2017 $1,486.00  12X521\n",
       "  school.name                                                   Borough  Zip\n",
       "1 East-West School of International Studies                     QUEENS   NY \n",
       "2 Queens High School of Teaching, Liberal Arts and the Sciences QUEENS   NY \n",
       "3 Williamsburg High School for Architecture and Design          BROOKLYN NY \n",
       "4 Kingsborough Early College School                             BROOKLYN NY \n",
       "5 M.S. 129 Academy for Independent Learning and Leadership      BRONX    NY \n",
       "6 The Metropolitan Soundview High School                        BRONX    NY "
      ]
     },
     "metadata": {},
     "output_type": "display_data"
    },
    {
     "name": "stdout",
     "output_type": "stream",
     "text": [
      "Observations: 921\n",
      "Variables: 6\n",
      "$ ï..Year     <fct> 1/1/2017, 1/1/2017, 1/1/2017, 1/1/2017, 1/1/2017, 1/1/2...\n",
      "$ Amount      <fct> \"$1,486.00 \", \"$1,486.00 \", \"$1,486.00 \", \"$1,486.00 \",...\n",
      "$ DBN         <fct> 25Q281, 26Q566, 14K558, 21K468, 12X129, 12X521, 07X221,...\n",
      "$ school.name <fct> \"East-West School of International Studies\", \"Queens Hi...\n",
      "$ Borough     <fct> QUEENS, QUEENS, BROOKLYN, BROOKLYN, BRONX, BRONX, BRONX...\n",
      "$ Zip         <fct> NY, NY, NY, NY, NY, NY, NY, NY, NY, NY, NY, NY, NY, NY,...\n"
     ]
    }
   ],
   "source": [
    "warning=F\n",
    "library(tidyverse)\n",
    "library(knitr)\n",
    "library(kableExtra)\n",
    "library(IRdisplay)\n",
    "library(ggpubr)\n",
    "data <- read.csv(\"DoE Schools Trends.csv\")\n",
    "head(data)\n",
    "glimpse(data)\n",
    "names(data)[1] <- \"Year\"\n",
    "data$Year <- lubridate::mdy(data$Year)"
   ]
  },
  {
   "cell_type": "code",
   "execution_count": 13,
   "metadata": {},
   "outputs": [
    {
     "data": {
      "image/png": "[encoded data removed]",
      "text/plain": [
       "plot without title"
      ]
     },
     "metadata": {},
     "output_type": "display_data"
    }
   ],
   "source": [
    "data5 <- data%>%\n",
    "          group_by(Year)%>%\n",
    "          mutate(sum_bor = n())\n",
    "\n",
    "\n",
    "\n",
    "ggplot(data5, aes( x=Year, y = sum_bor))+\n",
    "         geom_bar(stat = \"identity\",color =\"black\", position = \"dodge\", fill = \"skyblue\" ,width = 20)+\n",
    "theme_pubclean() +geom_text(label = data5$sum_bor, y = data5$sum_bor +7)+\n",
    "theme(legend.position = \"NONE\",axis.text.x = element_text(angle=90))+\n",
    "labs(title = \"Number of Schools Each Year\", y=\"Count\",x=\"Schools\")"
   ]
  },
  {
   "cell_type": "markdown",
   "metadata": {},
   "source": []
  },
  {
   "cell_type": "code",
   "execution_count": 14,
   "metadata": {},
   "outputs": [
    {
     "data": {
      "image/png": "[encoded data removed]",
      "text/plain": [
       "plot without title"
      ]
     },
     "metadata": {},
     "output_type": "display_data"
    }
   ],
   "source": [
    "data2 <- data%>%\n",
    "          group_by(Year, Borough)%>%\n",
    "          mutate(sum_bor = n())\n",
    "ggplot(data2, aes( x=fct_reorder(Borough, sum_bor), y = sum_bor, fill = Borough))+\n",
    "geom_bar(stat = \"identity\", position = \"dodge\")+theme_classic()+geom_text(label = data2$sum_bor)+\n",
    "facet_wrap(~Year)+theme(legend.position = \"NONE\",axis.text.x = element_text(angle=90))+ylab(\"Count\")+xlab(\"Boroughs\")\n"
   ]
  },
  {
   "cell_type": "code",
   "execution_count": 15,
   "metadata": {},
   "outputs": [],
   "source": [
    "data3 <- data %>%\n",
    "group_by(school.name)%>%\n",
    "mutate(date_of_first_engagement= min(Year))%>%\n",
    "ungroup()\n",
    "\n",
    "data3 <- data3 %>%\n",
    " mutate(school_Status = case_when( Year > date_of_first_engagement ~ \"Returning\",\n",
    "Year == date_of_first_engagement ~ \"New\",\n",
    " TRUE ~ \"Other\"))"
   ]
  },
  {
   "cell_type": "markdown",
   "metadata": {},
   "source": [
    "The table below illustrates the number of “New” and “Returning” shools who seek internship services from CIP.  From the line graph, we can see that the number of returning schools continues to grow each year while the number of new schools does the opposite.\n"
   ]
  },
  {
   "cell_type": "code",
   "execution_count": 16,
   "metadata": {},
   "outputs": [],
   "source": [
    "data4 <-  data3 %>%\n",
    "group_by(lubridate::floor_date(`Year`,unit = 'year'))%>%\n",
    "summarise(New_school = n_distinct(school.name[school_Status==\"New\"]),\n",
    "Returning_schools= n_distinct(school.name[school_Status==\"Returning\"]))"
   ]
  },
  {
   "cell_type": "code",
   "execution_count": 21,
   "metadata": {},
   "outputs": [
    {
     "data": {
      "text/html": [
       "<table class=\"table table-striped table-hover table-condensed\" style=\"width: auto !important; \">\n",
       " <thead>\n",
       "  <tr>\n",
       "   <th style=\"text-align:left;\"> Year </th>\n",
       "   <th style=\"text-align:right;\"> New_Schools </th>\n",
       "   <th style=\"text-align:right;\"> Returning_Schools </th>\n",
       "  </tr>\n",
       " </thead>\n",
       "<tbody>\n",
       "  <tr>\n",
       "   <td style=\"text-align:left;\"> 2017-01-01 </td>\n",
       "   <td style=\"text-align:right;\"> 176 </td>\n",
       "   <td style=\"text-align:right;\"> 0 </td>\n",
       "  </tr>\n",
       "  <tr>\n",
       "   <td style=\"text-align:left;\"> 2018-01-01 </td>\n",
       "   <td style=\"text-align:right;\"> 142 </td>\n",
       "   <td style=\"text-align:right;\"> 127 </td>\n",
       "  </tr>\n",
       "  <tr>\n",
       "   <td style=\"text-align:left;\"> 2019-01-01 </td>\n",
       "   <td style=\"text-align:right;\"> 101 </td>\n",
       "   <td style=\"text-align:right;\"> 147 </td>\n",
       "  </tr>\n",
       "  <tr>\n",
       "   <td style=\"text-align:left;\"> 2020-01-01 </td>\n",
       "   <td style=\"text-align:right;\"> 57 </td>\n",
       "   <td style=\"text-align:right;\"> 171 </td>\n",
       "  </tr>\n",
       "</tbody>\n",
       "</table>"
      ]
     },
     "metadata": {},
     "output_type": "display_data"
    }
   ],
   "source": [
    "\n",
    "kable(data4, col.names = c(\"Year\", \"New_Schools\", \"Returning_Schools\"))%>%\n",
    "kable_styling(bootstrap_options = c(\"striped\", \"hover\", \"condensed\") , full_width = F, position = \"left\")%>%\n",
    "as.character()%>%\n",
    "display_html()"
   ]
  },
  {
   "cell_type": "code",
   "execution_count": 23,
   "metadata": {},
   "outputs": [
    {
     "data": {
      "image/png": "[encoded data removed]",
      "text/plain": [
       "plot without title"
      ]
     },
     "metadata": {},
     "output_type": "display_data"
    }
   ],
   "source": [
    " names(data4)[1]<- \"Year\"\n",
    " \n",
    "data4 <- tidyr::gather(data4, key= key, value = values, 2:3)\n",
    "ggplot(data = data4, aes(x = Year,y =values, group = key,color=key ))+\n",
    "  geom_line(linetype = \"dashed\", size=0.6)+geom_point(size = 2) +\n",
    "labs(title = \"Trends in New Schools and Returning Schools\", x= 'Year',y='Count')+theme_replace()\n"
   ]
  },
  {
   "cell_type": "code",
   "execution_count": null,
   "metadata": {},
   "outputs": [],
   "source": []
  }
 ],
 "metadata": {
  "kernelspec": {
   "display_name": "R",
   "language": "R",
   "name": "ir"
  },
  "language_info": {
   "codemirror_mode": "r",
   "file_extension": ".r",
   "mimetype": "text/x-r-source",
   "name": "R",
   "pygments_lexer": "r",
   "version": "3.6.1"
  }
 },
 "nbformat": 4,
 "nbformat_minor": 4
}
